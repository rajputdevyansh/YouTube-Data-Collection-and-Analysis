{
 "cells": [
  {
   "cell_type": "code",
   "execution_count": null,
   "metadata": {},
   "outputs": [],
   "source": [
    "# Importing Libraries\n",
    "import pandas as pd\n",
    "import matplotlib.pyplot as plt\n",
    "import seaborn as sns\n",
    "print(\"Libraries Imported Successfully\")"
   ]
  },
  {
   "cell_type": "code",
   "execution_count": null,
   "metadata": {},
   "outputs": [],
   "source": [
    "# Reading the CSV file for AU(Australia) region\n",
    "trending_videos_AU = pd.read_csv('trending_videos_AU.csv')\n",
    "trending_videos_AU.head()"
   ]
  },
  {
   "cell_type": "code",
   "execution_count": null,
   "metadata": {},
   "outputs": [],
   "source": [
    "# Reading the CSV file for CA(Canada) region\n",
    "trending_videos_CA = pd.read_csv('trending_videos_CA.csv')\n",
    "trending_videos_CA.head()"
   ]
  },
  {
   "cell_type": "code",
   "execution_count": null,
   "metadata": {},
   "outputs": [],
   "source": [
    "# Reading the CSV file for GB(United Kingdom) region\n",
    "trending_videos_GB = pd.read_csv('trending_videos_GB.csv')\n",
    "trending_videos_GB.head()"
   ]
  },
  {
   "cell_type": "code",
   "execution_count": null,
   "metadata": {},
   "outputs": [],
   "source": [
    "# Reading the CSV file for IN(India) region\n",
    "trending_videos_IN = pd.read_csv('trending_videos_IN.csv')\n",
    "trending_videos_IN.head()"
   ]
  },
  {
   "cell_type": "code",
   "execution_count": null,
   "metadata": {},
   "outputs": [],
   "source": [
    "# Reading the CSV file for US(United States) region\n",
    "trending_videos_US = pd.read_csv('trending_videos_US.csv')\n",
    "trending_videos_US.head()"
   ]
  },
  {
   "cell_type": "code",
   "execution_count": null,
   "metadata": {},
   "outputs": [],
   "source": [
    "# Descriptive Statistics of the qunatitative variables(View Count, Like count, dislike count, comment count) in the dataset\n",
    "def descriptive_statistics(df):\n",
    "    print(\"Descriptive Statistics of the quantitative variables in the dataset\")\n",
    "    print(df[['view_count', 'like_count', 'comment_count']].describe())"
   ]
  },
  {
   "cell_type": "code",
   "execution_count": null,
   "metadata": {},
   "outputs": [],
   "source": [
    "# Descriptive Statistics of the quantitative variables for AU(Australia) region\n",
    "descriptive_statistics(trending_videos_AU)"
   ]
  },
  {
   "cell_type": "code",
   "execution_count": null,
   "metadata": {},
   "outputs": [],
   "source": [
    "# Descriptive Statistics of the quantitative variables for CA(Canada) region\n",
    "descriptive_statistics(trending_videos_CA)"
   ]
  },
  {
   "cell_type": "code",
   "execution_count": null,
   "metadata": {},
   "outputs": [],
   "source": [
    "# Descriptive Statistics of the quantitative variables for GB(United Kingdom) region\n",
    "descriptive_statistics(trending_videos_GB)"
   ]
  },
  {
   "cell_type": "code",
   "execution_count": null,
   "metadata": {},
   "outputs": [],
   "source": [
    "# Descriptive Statistics of the quantitative variables for IN(India) region\n",
    "descriptive_statistics(trending_videos_IN)"
   ]
  },
  {
   "cell_type": "code",
   "execution_count": null,
   "metadata": {},
   "outputs": [],
   "source": [
    "# Descriptive Statistics of the quantitative variables for US(United States) region\n",
    "descriptive_statistics(trending_videos_US)"
   ]
  },
  {
   "cell_type": "code",
   "execution_count": null,
   "metadata": {},
   "outputs": [],
   "source": [
    "# Function to plot the distribution of the quantitative variables in the dataset\n",
    "def plot_distribution(df):\n",
    "    sns.set_style('darkgrid')\n",
    "    fig, ax = plt.subplots(1, 3, figsize=(20, 5))\n",
    "    sns.histplot(df['view_count'], bins=50,ax=ax[0], color='red', kde=True)\n",
    "    ax[0].set_title('Distribution of View Count')\n",
    "    ax[0].set_xlabel('View Count')\n",
    "    ax[0].set_ylabel('Count Frequency')\n",
    "    sns.histplot(df['like_count'], bins=50, ax=ax[1], color='green', kde=True)\n",
    "    ax[1].set_title('Distribution of Like Count')\n",
    "    ax[1].set_xlabel('Like Count')\n",
    "    ax[1].set_ylabel('Count Frequency')\n",
    "    sns.histplot(df['comment_count'], bins=50, ax=ax[2], color='blue', kde=True)\n",
    "    ax[2].set_title('Distribution of Comment Count')\n",
    "    ax[2].set_xlabel('Comment Count')\n",
    "    ax[2].set_ylabel('Count Frequency')\n",
    "    plt.show()"
   ]
  },
  {
   "cell_type": "code",
   "execution_count": null,
   "metadata": {},
   "outputs": [],
   "source": [
    "# Plotting the distribution of the quantitative variables for AU(Australia) region\n",
    "plot_distribution(trending_videos_AU)"
   ]
  },
  {
   "cell_type": "code",
   "execution_count": null,
   "metadata": {},
   "outputs": [],
   "source": [
    "# Plotting the distribution of the quantitative variables for CA(Canada) region\n",
    "plot_distribution(trending_videos_CA)"
   ]
  },
  {
   "cell_type": "code",
   "execution_count": null,
   "metadata": {},
   "outputs": [],
   "source": [
    "# Plotting the distribution of the quantitative variables for GB(United Kingdom) region\n",
    "plot_distribution(trending_videos_GB)"
   ]
  },
  {
   "cell_type": "code",
   "execution_count": null,
   "metadata": {},
   "outputs": [],
   "source": [
    "# Plotting the distribution of the quantitative variables for IN(India) region\n",
    "plot_distribution(trending_videos_IN)"
   ]
  },
  {
   "cell_type": "code",
   "execution_count": null,
   "metadata": {},
   "outputs": [],
   "source": [
    "# Plotting the distribution of the quantitative variables for US(United States) region\n",
    "plot_distribution(trending_videos_US)"
   ]
  },
  {
   "cell_type": "code",
   "execution_count": null,
   "metadata": {},
   "outputs": [],
   "source": [
    "# Function to compare the correlation matrix of the quantitative variables for all regions\n",
    "def compare_correlation(df1, df2, df3, df4, df5):\n",
    "    sns.set_style('darkgrid')\n",
    "    fig, ax = plt.subplots(1, 5, figsize=(30, 4))\n",
    "    sns.heatmap(df1[['view_count', 'like_count', 'comment_count']].corr(), annot=True, cmap='coolwarm', ax=ax[0], linecolor='white', linewidth=1, annot_kws={'size': 15}, fmt='.2f')\n",
    "    ax[0].set_title('Correlation Matrix of AU region', fontsize=15)\n",
    "    sns.heatmap(df2[['view_count', 'like_count', 'comment_count']].corr(), annot=True, cmap='coolwarm', ax=ax[1], linecolor='white', linewidth=1, annot_kws={'size': 15}, fmt='.2f')\n",
    "    ax[1].set_title('Correlation Matrix of CA region', fontsize=15)\n",
    "    sns.heatmap(df3[['view_count', 'like_count', 'comment_count']].corr(), annot=True, cmap='coolwarm', ax=ax[2], linecolor='white', linewidth=1, annot_kws={'size': 15}, fmt='.2f')\n",
    "    ax[2].set_title('Correlation Matrix of GB region', fontsize=15)\n",
    "    sns.heatmap(df4[['view_count', 'like_count', 'comment_count']].corr(), annot=True, cmap='coolwarm', ax=ax[3], linecolor='white', linewidth=1, annot_kws={'size': 15}, fmt='.2f')\n",
    "    ax[3].set_title('Correlation Matrix of IN region', fontsize=15)\n",
    "    sns.heatmap(df5[['view_count', 'like_count', 'comment_count']].corr(), annot=True, cmap='coolwarm', ax=ax[4], linecolor='white', linewidth=1, annot_kws={'size': 15}, fmt='.2f')\n",
    "    ax[4].set_title('Correlation Matrix of US region', fontsize=15)\n",
    "    plt.show()"
   ]
  },
  {
   "cell_type": "code",
   "execution_count": null,
   "metadata": {},
   "outputs": [],
   "source": [
    "# Comparing the correlation matrix of the quantitative variables for all regions\n",
    "compare_correlation(trending_videos_AU, trending_videos_CA, trending_videos_GB, trending_videos_IN, trending_videos_US)"
   ]
  },
  {
   "cell_type": "code",
   "execution_count": null,
   "metadata": {},
   "outputs": [],
   "source": [
    "# Function to plot count of videos by category for all regions\n",
    "def plot_category_count(df1, df2, df3, df4, df5):\n",
    "    sns.set_style('darkgrid')\n",
    "    fig, ax = plt.subplots(3, 2, figsize=(30, 30))\n",
    "    sns.countplot(y='category_name', data=df1, ax=ax[0, 0], palette='viridis', hue='category_name', order = df1['category_name'].value_counts().index)\n",
    "    ax[0, 0].set_title('Video Count by Category in AU Region', fontsize=15)\n",
    "    ax[0, 0].set_xlabel('Count')\n",
    "    ax[0, 0].set_ylabel('Category Name')\n",
    "    sns.countplot(y='category_name', data=df2, ax=ax[0, 1], palette='viridis', hue='category_name', order = df2['category_name'].value_counts().index)\n",
    "    ax[0, 1].set_title('Video Count by Category in CA Region', fontsize=15)\n",
    "    ax[0, 1].set_xlabel('Count')\n",
    "    ax[0, 1].set_ylabel('Category Name')\n",
    "    sns.countplot(y='category_name', data=df3, ax=ax[1, 0], palette='viridis', hue='category_name', order = df3['category_name'].value_counts().index)\n",
    "    ax[1, 0].set_title('Video Count by Category in GB Region', fontsize=15)\n",
    "    ax[1, 0].set_xlabel('Count')\n",
    "    ax[1, 0].set_ylabel('Category Name')\n",
    "    sns.countplot(y='category_name', data=df4, ax=ax[1, 1], palette='viridis', hue='category_name', order = df4['category_name'].value_counts().index)\n",
    "    ax[1, 1].set_title('Video Count by Category in IN Region', fontsize=15)\n",
    "    ax[1, 1].set_xlabel('Count')\n",
    "    ax[1, 1].set_ylabel('Category Name')\n",
    "    sns.countplot(y='category_name', data=df5, ax=ax[2, 0], palette='viridis', hue='category_name', order = df5['category_name'].value_counts().index)\n",
    "    ax[2, 0].set_title('Video Count by Category in US Region', fontsize=15)\n",
    "    ax[2, 0].set_xlabel('Count')\n",
    "    ax[2, 0].set_ylabel('Category Name')\n",
    "    plt.show()\n"
   ]
  },
  {
   "cell_type": "code",
   "execution_count": null,
   "metadata": {},
   "outputs": [],
   "source": [
    "# Plotting the bar chart of category wise distribution of videos\n",
    "plot_category_count(trending_videos_AU, trending_videos_CA, trending_videos_GB, trending_videos_IN, trending_videos_US)"
   ]
  },
  {
   "cell_type": "code",
   "execution_count": null,
   "metadata": {},
   "outputs": [],
   "source": [
    "# Function to plot the average engagement metrics by category\n",
    "def plot_average_engagement(df):\n",
    "    sns.set_style('darkgrid')\n",
    "    fig, ax = plt.subplots(1, 3, figsize=(20, 5))\n",
    "    category_engagement = df.groupby('category_name')[['view_count', 'like_count', 'comment_count']].mean().sort_values(by='view_count', ascending=False)\n",
    "    sns.barplot(y=category_engagement.index, x=category_engagement['view_count'], ax=ax[0], palette='viridis', hue=category_engagement.index)\n",
    "    ax[0].set_title('Average View Count by Category')\n",
    "    ax[0].set_xlabel('Average View Count')\n",
    "    ax[0].set_ylabel('Category')\n",
    "    sns.barplot(y=category_engagement.index, x=category_engagement['like_count'], ax=ax[1], palette='viridis', hue=category_engagement.index)\n",
    "    ax[1].set_title('Average Like Count by Category')\n",
    "    ax[1].set_xlabel('Average Like Count')\n",
    "    ax[1].set_ylabel('Category')\n",
    "    sns.barplot(y=category_engagement.index, x=category_engagement['comment_count'], ax=ax[2], palette='viridis', hue=category_engagement.index)\n",
    "    ax[2].set_title('Average Comment Count by Category')\n",
    "    ax[2].set_xlabel('Average Comment Count')\n",
    "    ax[2].set_ylabel('Category')\n",
    "    plt.tight_layout()\n",
    "    plt.show()"
   ]
  },
  {
   "cell_type": "code",
   "execution_count": null,
   "metadata": {},
   "outputs": [],
   "source": [
    "# Plotting the average engagement metrics by category for AU(Australia) region\n",
    "plot_average_engagement(trending_videos_AU)"
   ]
  },
  {
   "cell_type": "code",
   "execution_count": null,
   "metadata": {},
   "outputs": [],
   "source": [
    "# Plotting the average engagement metrics by category for CA(Canada) region\n",
    "plot_average_engagement(trending_videos_CA)"
   ]
  },
  {
   "cell_type": "code",
   "execution_count": null,
   "metadata": {},
   "outputs": [],
   "source": [
    "# Plotting the average engagement metrics by category for GB(United Kingdom) region\n",
    "plot_average_engagement(trending_videos_GB)"
   ]
  },
  {
   "cell_type": "code",
   "execution_count": null,
   "metadata": {},
   "outputs": [],
   "source": [
    "# Plotting the average engagement metrics by category for IN(India) region\n",
    "plot_average_engagement(trending_videos_IN)"
   ]
  },
  {
   "cell_type": "code",
   "execution_count": null,
   "metadata": {},
   "outputs": [],
   "source": [
    "# Plotting the average engagement metrics by category for US(United States) region\n",
    "plot_average_engagement(trending_videos_US)"
   ]
  },
  {
   "cell_type": "code",
   "execution_count": null,
   "metadata": {},
   "outputs": [],
   "source": [
    "# Function to plot the scatter plot of video duration vs view count\n",
    "def plot_duration_vs_view_count(df, color_name):\n",
    "    sns.set_style('darkgrid')\n",
    "    fig, ax = plt.subplots(1, 1, figsize=(20, 5))\n",
    "    sns.scatterplot(x='duration', y='view_count', data=df, ax=ax, color=color_name)\n",
    "    ax.set_title('Duration vs View Count')\n",
    "    ax.set_xlabel('Duration')\n",
    "    ax.set_ylabel('View Count')\n",
    "    plt.show()"
   ]
  },
  {
   "cell_type": "code",
   "execution_count": null,
   "metadata": {},
   "outputs": [],
   "source": [
    "# Plotting the scatter plot of video duration vs view count for AU(Australia) region\n",
    "plot_duration_vs_view_count(trending_videos_AU, 'red')"
   ]
  },
  {
   "cell_type": "code",
   "execution_count": null,
   "metadata": {},
   "outputs": [],
   "source": [
    "# Plotting the scatter plot of video duration vs view count for CA(Canada) region\n",
    "plot_duration_vs_view_count(trending_videos_CA, 'green')"
   ]
  },
  {
   "cell_type": "code",
   "execution_count": null,
   "metadata": {},
   "outputs": [],
   "source": [
    "# Plotting the scatter plot of video duration vs view count for GB(United Kingdom) region\n",
    "plot_duration_vs_view_count(trending_videos_GB, 'blue')"
   ]
  },
  {
   "cell_type": "code",
   "execution_count": null,
   "metadata": {},
   "outputs": [],
   "source": [
    "# Plotting the scatter plot of video duration vs view count for IN(India) region\n",
    "plot_duration_vs_view_count(trending_videos_IN, 'orange')"
   ]
  },
  {
   "cell_type": "code",
   "execution_count": null,
   "metadata": {},
   "outputs": [],
   "source": [
    "# Plotting the scatter plot of video duration vs view count for US(United States) region\n",
    "plot_duration_vs_view_count(trending_videos_US, 'purple')"
   ]
  },
  {
   "cell_type": "code",
   "execution_count": null,
   "metadata": {},
   "outputs": [],
   "source": [
    "# Function to plot barplot for engagement metrics by duration range 3,1 subplots\n",
    "def plot_engagement_by_duration(df):\n",
    "    sns.set_style('darkgrid')\n",
    "    fig, ax = plt.subplots(3, 1, figsize=(20, 15))\n",
    "    duration_engagement = df.groupby('duration_range')[['view_count', 'like_count', 'comment_count']].mean()\n",
    "    sns.barplot(x=duration_engagement.index, y=duration_engagement['view_count'], ax=ax[0], palette='viridis', hue=duration_engagement.index)\n",
    "    ax[0].set_title('Average View Count by Duration Range')\n",
    "    ax[0].set_xlabel('Duration Range')\n",
    "    ax[0].set_ylabel('Average View Count')\n",
    "    sns.barplot(x=duration_engagement.index, y=duration_engagement['like_count'], ax=ax[1], palette='viridis', hue=duration_engagement.index)\n",
    "    ax[1].set_title('Average Like Count by Duration Range')\n",
    "    ax[1].set_xlabel('Duration Range')\n",
    "    ax[1].set_ylabel('Average Like Count')\n",
    "    sns.barplot(x=duration_engagement.index, y=duration_engagement['comment_count'], ax=ax[2], palette='viridis', hue=duration_engagement.index)\n",
    "    ax[2].set_title('Average Comment Count by Duration Range')\n",
    "    ax[2].set_xlabel('Duration Range')\n",
    "    ax[2].set_ylabel('Average Comment Count')\n",
    "    plt.tight_layout()\n",
    "    plt.show()"
   ]
  },
  {
   "cell_type": "code",
   "execution_count": null,
   "metadata": {},
   "outputs": [],
   "source": [
    "# Plotting the barplot for engagement metrics by duration range for AU(Australia) region\n",
    "plot_engagement_by_duration(trending_videos_AU)"
   ]
  },
  {
   "cell_type": "code",
   "execution_count": null,
   "metadata": {},
   "outputs": [],
   "source": [
    "# Plotting the barplot for engagement metrics by duration range for CA(Canada) region\n",
    "plot_engagement_by_duration(trending_videos_CA)"
   ]
  },
  {
   "cell_type": "code",
   "execution_count": null,
   "metadata": {},
   "outputs": [],
   "source": [
    "# Plotting the barplot for engagement metrics by duration range for GB(United Kingdom) region\n",
    "plot_engagement_by_duration(trending_videos_GB)"
   ]
  },
  {
   "cell_type": "code",
   "execution_count": null,
   "metadata": {},
   "outputs": [],
   "source": [
    "# Plotting the barplot for engagement metrics by duration range for IN(India) region\n",
    "plot_engagement_by_duration(trending_videos_IN)"
   ]
  },
  {
   "cell_type": "code",
   "execution_count": null,
   "metadata": {},
   "outputs": [],
   "source": [
    "# Plotting the barplot for engagement metrics by duration range for US(United States) region\n",
    "plot_engagement_by_duration(trending_videos_US)"
   ]
  }
 ],
 "metadata": {
  "kernelspec": {
   "display_name": "youtube_analysis",
   "language": "python",
   "name": "python3"
  },
  "language_info": {
   "codemirror_mode": {
    "name": "ipython",
    "version": 3
   },
   "file_extension": ".py",
   "mimetype": "text/x-python",
   "name": "python",
   "nbconvert_exporter": "python",
   "pygments_lexer": "ipython3",
   "version": "3.11.9"
  }
 },
 "nbformat": 4,
 "nbformat_minor": 2
}
